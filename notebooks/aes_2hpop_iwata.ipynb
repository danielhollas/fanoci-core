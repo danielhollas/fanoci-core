{
 "cells": [
  {
   "cell_type": "code",
   "execution_count": 1,
   "metadata": {},
   "outputs": [],
   "source": [
    "import numpy as np\n",
    "import os"
   ]
  },
  {
   "cell_type": "markdown",
   "metadata": {},
   "source": [
    "# Reproducing numbers from Iwata paper\n",
    "M. Mitani et al, J. El. Spec. and Rel. Phenom., 128, 2003, 103-117"
   ]
  },
  {
   "cell_type": "code",
   "execution_count": 2,
   "metadata": {},
   "outputs": [],
   "source": [
    "# indexing from 0, MOs - 1a1, 2a1, 1b2, 3a1, 1b1 \n",
    "# Data from Table 2, column O*(L)\n",
    "lowdin_core_vdz = np.array([0.99, 1.57, 1.61, 1.89, 1.93], dtype = np.float64)\n",
    "lowdin_core_vtz = np.array([0.98, 1.33, 1.55, 1.86, 1.88], dtype = np.float64)"
   ]
  },
  {
   "cell_type": "code",
   "execution_count": 34,
   "metadata": {},
   "outputs": [
    {
     "name": "stdout",
     "output_type": "stream",
     "text": [
      "[8.579027138322339e-05, 0.5053618919614516, 1.0, 0.020611112699819845, 0.49466670479567626, 0.023356401384083025, 0.841094969830421, 0.8313148788927337, 0.3435185449969974, 0.064878892733564, 0.060246218078869845, 0.010380622837370238, 0.7366596127999083, 0.7275086505190312, 0.5929823558008521, 0.2529240184163116]\n"
     ]
    }
   ],
   "source": [
    "# Now let's try to reproduce column 4 from Table 3\n",
    "K = 1 / np.sqrt(6.993799999999999) # so that 1B1 state has I = 1.0\n",
    "def t_vw_singlet(pop, v, w, K):\n",
    "    if v == w:\n",
    "        return K * pop[v]\n",
    "    else:\n",
    "        return K * (pop[v] + pop[w]) / np.sqrt(2)\n",
    "    \n",
    "def t_vw_triplet(pop, v, w, K):\n",
    "    return K * (pop[v] - pop[w]) * np.sqrt(3/2.)\n",
    "\n",
    "# Let's just assume single configuration final states\n",
    "I = []\n",
    "# (v, w, 's'|'t')\n",
    "states = [(3, 4, 't'), # tB1\n",
    "          (4, 4, 's'), # sA1\n",
    "          (3, 4, 's'), # \n",
    "          (2, 3, 't'),\n",
    "          (3, 3, 's'),\n",
    "          (2, 4, 't'),\n",
    "          (2, 4, 's'),\n",
    "          (2, 3, 's'),\n",
    "          (2, 2, 's'),\n",
    "          (1, 4, 't'),\n",
    "          (1, 3, 't'),\n",
    "          (1, 2, 't'),\n",
    "          (1, 4, 's'),\n",
    "          (1, 3, 's'), # sA1\n",
    "          (1, 2, 's'), # sB2\n",
    "          ###...last state (2a_1)^(-2)\n",
    "          (1, 1, 's') # sA1\n",
    "         ]\n",
    "\n",
    "for state in states:\n",
    "    if state[2] == 't':\n",
    "        t = t_vw_triplet(lowdin_core_vtz, state[0], state[1], K)\n",
    "        I.append(t**2)\n",
    "    else:\n",
    "        t = t_vw_singlet(lowdin_core_vtz, state[0], state[1], K)\n",
    "        I.append(t**2)\n",
    "print(I)"
   ]
  },
  {
   "cell_type": "code",
   "execution_count": 38,
   "metadata": {},
   "outputs": [
    {
     "name": "stdout",
     "output_type": "stream",
     "text": [
      "[ 8.57902714e-05  5.36189196e-03  0.00000000e+00  6.11112700e-04\n",
      " -5.33329520e-03  3.35640138e-03  1.09496983e-03  1.31487889e-03\n",
      " -6.48145500e-03  4.87889273e-03  2.46218079e-04  3.80622837e-04\n",
      " -3.34038720e-03  7.50865052e-03  2.98235580e-03 -7.07598158e-03]\n"
     ]
    }
   ],
   "source": [
    "I_paper = np.array([0.0, 0.5, 1.0, 0.02, 0.5, 0.02, 0.84, 0.83, 0.35, 0.06, 0.06, 0.01, 0.74, 0.72, 0.59, 0.26])\n",
    "I = np.array(I)\n",
    "print(I-I_paper)"
   ]
  },
  {
   "cell_type": "code",
   "execution_count": 52,
   "metadata": {},
   "outputs": [
    {
     "name": "stdout",
     "output_type": "stream",
     "text": [
      "[27.9737, 17.1117, 13.0093, 14.5062, 12.38, 12.6154, 20.5173, 21.3491, 13.398, 16.2956, 7.65049, 6.12153, 0.0, 5.69239, 0.0, 0.0]\n",
      "[2.59369, 1.77756, 1.28828, 1.82694, 0.530065, 1.83358, 2.06711, 0.431274, 0.680975, 0.278962, 2.19184, 0.580913, 0.0, 2.14861, 0.0, 0.0]\n"
     ]
    }
   ],
   "source": [
    "# Now let's see our FANO-CI data\n",
    "GAMMA_FILE = '../h2o/core/CC-PVTZ/scr-fanoci-1s-mom-5spd/gammas_avg.dat'\n",
    "gammas = []\n",
    "stderrors = []\n",
    "with open(GAMMA_FILE, 'r') as f:\n",
    "    for line in f:\n",
    "        l = line.split()\n",
    "        gammas.append(float(l[0]))\n",
    "        stderrors.append(float(l[1]))\n",
    "print(gammas)\n",
    "print(stderrors)"
   ]
  },
  {
   "cell_type": "code",
   "execution_count": 54,
   "metadata": {},
   "outputs": [
    {
     "name": "stdout",
     "output_type": "stream",
     "text": [
      "[1.63477036 1.         0.7602576  0.84773576 0.72348159 0.73723826\n",
      " 1.19902172 1.24763174 0.78297305 0.95230749 0.44709117 0.35773944\n",
      " 0.         0.33266069 0.         0.        ]\n"
     ]
    }
   ],
   "source": [
    "I_fano = np.array(gammas) / gammas[1]\n",
    "print(I_fano)"
   ]
  },
  {
   "cell_type": "code",
   "execution_count": null,
   "metadata": {},
   "outputs": [],
   "source": []
  }
 ],
 "metadata": {
  "kernelspec": {
   "display_name": "Python 3",
   "language": "python",
   "name": "python3"
  },
  "language_info": {
   "codemirror_mode": {
    "name": "ipython",
    "version": 3
   },
   "file_extension": ".py",
   "mimetype": "text/x-python",
   "name": "python",
   "nbconvert_exporter": "python",
   "pygments_lexer": "ipython3",
   "version": "3.8.1"
  }
 },
 "nbformat": 4,
 "nbformat_minor": 4
}
