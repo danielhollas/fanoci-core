{
 "cells": [
  {
   "cell_type": "code",
   "execution_count": 1,
   "metadata": {},
   "outputs": [],
   "source": [
    "import numpy as np\n",
    "import pandas as pd\n",
    "import os"
   ]
  },
  {
   "cell_type": "markdown",
   "metadata": {},
   "source": [
    "# Reproducing numbers from Iwata et al paper\n",
    "\n",
    "## AES using 2-hole population analysis\n",
    "M. Mitani et al, J. El. Spec. and Rel. Phenom., 128, 2003, 103-117\n",
    "https://www.sciencedirect.com/science/article/pii/S0368204802002700\n",
    "\n",
    "Essentially, we'll take the data from Table 3 and use them to reproduce Table 4\n"
   ]
  },
  {
   "cell_type": "code",
   "execution_count": 2,
   "metadata": {},
   "outputs": [],
   "source": [
    "# Data from Table 2, column O*(L)\n",
    "# indexing from 0, MOs - 1a1, 2a1, 1b2, 3a1, 1b1 \n",
    "lowdin_core_vdz = np.array([0.99, 1.57, 1.61, 1.89, 1.93], dtype = np.float64)\n",
    "lowdin_core_vtz = np.array([0.98, 1.33, 1.55, 1.86, 1.88], dtype = np.float64)"
   ]
  },
  {
   "cell_type": "code",
   "execution_count": 3,
   "metadata": {},
   "outputs": [],
   "source": [
    "# Now let's try to reproduce column 4 from Table 3\n",
    "K = 1 / np.sqrt(6.993799999999999) # so that 1B1 state has I = 1.0\n",
    "\n",
    "# Eq. 7\n",
    "def t_vw_singlet(pop, v, w, K):\n",
    "    if v == w:\n",
    "        return K * pop[v]\n",
    "    else:\n",
    "        return K * (pop[v] + pop[w]) / np.sqrt(2)\n",
    "    \n",
    "def t_vw_triplet(pop, v, w, K):\n",
    "    return K * (pop[v] - pop[w]) * np.sqrt(3/2.)\n",
    "\n",
    "def t_vw(MOpop, v, w, K, spinmult):\n",
    "    if spinmult in (1, 's'):\n",
    "        return t_vw_singlet(MOpop, v, w, K)\n",
    "    elif spinmult in (3, 't'):\n",
    "        return t_vw_triplet(MOpop, v, w, K)\n",
    "    else:\n",
    "        print(\"Invalid multiplicity\", spinmult)\n",
    "        raise"
   ]
  },
  {
   "cell_type": "markdown",
   "metadata": {},
   "source": [
    "## Approximate computation - single CSF final states\n",
    "\n",
    "Assuming that final states are described by a single CSF which is generally true for a single water molecule according to Table 4."
   ]
  },
  {
   "cell_type": "code",
   "execution_count": 4,
   "metadata": {},
   "outputs": [
    {
     "name": "stdout",
     "output_type": "stream",
     "text": [
      "  I   I(paper)\n",
      "0.000 0.00\n",
      "0.505 0.50\n",
      "1.000 1.00\n",
      "0.021 0.02\n",
      "0.495 0.50\n",
      "0.023 0.02\n",
      "0.841 0.84\n",
      "0.831 0.83\n",
      "0.344 0.35\n",
      "0.065 0.06\n",
      "0.060 0.06\n",
      "0.010 0.01\n",
      "0.737 0.74\n",
      "0.728 0.72\n",
      "0.593 0.59\n",
      "0.253 0.26\n"
     ]
    }
   ],
   "source": [
    "# Let's just assume single configuration final states\n",
    "I_approx = []\n",
    "# (v, w, 's'|'t')\n",
    "states = [(3, 4, 't'), # tB1\n",
    "          (4, 4, 's'), # sA1\n",
    "          (3, 4, 's'), # \n",
    "          (2, 3, 't'),\n",
    "          (3, 3, 's'),\n",
    "          (2, 4, 't'),\n",
    "          (2, 4, 's'),\n",
    "          (2, 3, 's'),\n",
    "          (2, 2, 's'),\n",
    "          (1, 4, 't'),\n",
    "          (1, 3, 't'),\n",
    "          (1, 2, 't'),\n",
    "          (1, 4, 's'),\n",
    "          (1, 3, 's'), # sA1\n",
    "          (1, 2, 's'), # sB2\n",
    "          ###...last state (2a_1)^(-2)\n",
    "          (1, 1, 's') # sA1\n",
    "         ]\n",
    "\n",
    "for state in states:\n",
    "    if state[2] == 't':\n",
    "        t = t_vw_triplet(lowdin_core_vtz, state[0], state[1], K)\n",
    "        I_approx.append(t**2)\n",
    "    else:\n",
    "        t = t_vw_singlet(lowdin_core_vtz, state[0], state[1], K)\n",
    "        I_approx.append(t**2)\n",
    "\n",
    "# Here are the final numbers for comparison with the paper\n",
    "I_paper = np.array([0.0, 0.5, 1.0, 0.02, 0.5, 0.02, 0.84, 0.83, 0.35, 0.06, 0.06, 0.01, 0.74, 0.72, 0.59, 0.26])\n",
    "print(\"  I   I(paper)\")\n",
    "for i in range(len(I_paper)):\n",
    "    print(\"%.3f %.2f\" % (I_approx[i], I_paper[i]))"
   ]
  },
  {
   "cell_type": "markdown",
   "metadata": {},
   "source": [
    "## Comparison with FANO-CI data"
   ]
  },
  {
   "cell_type": "code",
   "execution_count": 5,
   "metadata": {},
   "outputs": [
    {
     "name": "stdout",
     "output_type": "stream",
     "text": [
      "       Gamma       Std  SpinMult\n",
      "0   10.36380  1.098000         1\n",
      "1    7.58593  0.285780         1\n",
      "2    5.50547  0.595272         1\n",
      "3    4.30086  0.518590         1\n",
      "4    5.39115  0.297638         1\n",
      "5    4.37881  0.487662         1\n",
      "6    7.77136  0.272843         1\n",
      "7    9.05474  0.220602         1\n",
      "8    4.45675  0.151596         1\n",
      "9    7.65108  0.126462         1\n",
      "10   0.00000  0.000000         3\n",
      "11   0.00000  0.000000         3\n",
      "12   0.00000  0.000000         3\n",
      "13   2.09275  0.158422         3\n",
      "14   0.00000  0.000000         3\n",
      "15   0.00000  0.000000         3\n",
      "       Gamma       Std  SpinMult\n",
      "0   27.97370  2.593690         1\n",
      "1   17.11170  1.777560         1\n",
      "2   13.00930  1.288280         1\n",
      "3   14.50620  1.826940         1\n",
      "4   12.38000  0.530065         1\n",
      "5   12.61540  1.833580         1\n",
      "6   20.51730  2.067110         1\n",
      "7   21.34910  0.431274         1\n",
      "8   13.39800  0.680975         1\n",
      "9   16.29560  0.278962         1\n",
      "10   7.65049  2.191840         3\n",
      "11   6.12153  0.580913         3\n",
      "12   0.00000  0.000000         3\n",
      "13   5.69239  2.148610         3\n",
      "14   0.00000  0.000000         3\n",
      "15   0.00000  0.000000         3\n"
     ]
    }
   ],
   "source": [
    "# Now let's see our FANO-CI for data\n",
    "# Note that the ordering is different, first singlet states, then triplet states\n",
    "GAMMA_MOM = '../h2o/core/CC-PVTZ/scr-fanoci-1s-mom-5spd/gammas_avg.dat'\n",
    "GAMMA_NEUTRAL = '../h2o/core/CC-PVTZ/scr-fanoci-1s-neutral-5spd/partial_gammas.dat'\n",
    "gammas_fanoci_mom = pd.read_csv(GAMMA_MOM, comment=\"#\", delim_whitespace=True)\n",
    "gammas_fanoci_neutral = pd.read_csv(GAMMA_NEUTRAL, comment=\"#\", delim_whitespace=True)\n",
    "# Let's append info about spin multiplicity just to keep things organized\n",
    "nsinglets = 10\n",
    "gammas_fanoci_neutral['SpinMult'] = 1; gammas_fanoci_mom['SpinMult'] = 1;\n",
    "gammas_fanoci_neutral.loc[nsinglets:, 'SpinMult'] = 3; gammas_fanoci_mom.loc[nsinglets:, 'SpinMult'] = 3;\n",
    "print(gammas_fanoci_neutral)\n",
    "print(gammas_fanoci_mom)"
   ]
  },
  {
   "cell_type": "code",
   "execution_count": 6,
   "metadata": {},
   "outputs": [
    {
     "name": "stdout",
     "output_type": "stream",
     "text": [
      "[1.63477036 1.         0.7602576  0.84773576 0.72348159 0.73723826\n",
      " 1.19902172 1.24763174 0.78297305 0.95230749 0.44709117 0.35773944\n",
      " 0.         0.33266069 0.         0.        ]\n"
     ]
    }
   ],
   "source": [
    "# The intensity is directly proportional to Gammas so we'll just normalize on the second singlet\n",
    "I_fano_MOM = np.array(gammas_fanoci_mom['Gamma']) / gammas_fanoci_mom['Gamma'][1]\n",
    "print(I_fano_MOM)"
   ]
  },
  {
   "cell_type": "markdown",
   "metadata": {},
   "source": [
    "**We can see that the MOM based FANOCI intensities are quite different!**\n",
    "\n",
    "For example, the first singlet state is more intense than the first one. Also, the triplets have much higher intensity.\n",
    "However, the intensities based on densities instead of populations,fifth column in Tab.4, the triplets have higher intensity as well."
   ]
  },
  {
   "cell_type": "code",
   "execution_count": 7,
   "metadata": {},
   "outputs": [
    {
     "name": "stdout",
     "output_type": "stream",
     "text": [
      "[1.36618714 1.         0.72574754 0.56695224 0.71067753 0.57722784\n",
      " 1.02444394 1.19362293 0.58750213 1.00858827 0.         0.\n",
      " 0.         0.27587257 0.         0.        ]\n"
     ]
    }
   ],
   "source": [
    "I_fano_neutral = np.array(gammas_fanoci_neutral['Gamma']) / gammas_fanoci_neutral['Gamma'][1]\n",
    "print(I_fano_neutral)"
   ]
  },
  {
   "cell_type": "markdown",
   "metadata": {},
   "source": [
    "**The FANO intensities from neutral WF generally follow the MOM based results!**\n",
    "\n",
    "Note that appart from one, stieltjes was not converging for the triplet states. Some of them probably because the intensity was zero. However, the first triplet state should have some intensity according to multiple source. I'll need to ask Tsveta whether the Stieltjes convergence could be improved."
   ]
  },
  {
   "cell_type": "markdown",
   "metadata": {},
   "source": [
    "## Full 2hpop calculation\n",
    "Let's try the full calculation including the CI expansion. \n",
    "We'll focus on third singlet state $^1A_1$, i.e. the fifth row of Tab. 4\n",
    "The dominant configuration with CI coeff=0.93 is $(3\\mathrm{a}_1)^{-2}$\n",
    "The paper does not give the rest of CI expansion so we'll take it from FANO-CI data."
   ]
  },
  {
   "cell_type": "code",
   "execution_count": 8,
   "metadata": {},
   "outputs": [],
   "source": [
    "# Just a little structer to hold CI data for a single final 2h state\n",
    "class CI_2h_state:\n",
    "    \n",
    "    def __init__(self, energy):\n",
    "        self.CSFs = []\n",
    "        self.energy = energy\n",
    "            \n",
    "    def setMultiplicity(self, mult):\n",
    "        if mult in ('s', 'I>'):\n",
    "            self.spinmult = 1\n",
    "        elif mult in ('t', 'III>'):\n",
    "            self.spinmult = 3\n",
    "        else:\n",
    "            self.spinmult = int(mult)\n",
    "        \n",
    "    def addCSF(self, i, j, Cij):\n",
    "        self.CSFs.append((i, j, Cij))\n",
    "        \n",
    "    def getCSFs(self):\n",
    "        return self.CSFs\n",
    "    \n",
    "    def print_state(self):\n",
    "        print(\"SpinMult = %d Energy = %.5f\" % (self.spinmult, self.energy))\n",
    "        for CSF in self.CSFs:\n",
    "            print(\"% .5f | %d %d >\" % (CSF[2], CSF[0], CSF[1]))\n",
    "\n",
    "\n",
    "\n",
    "def read_fanoci_states(fname):\n",
    "    CI_states = []\n",
    "    with open(fname, 'r') as f:\n",
    "        nstates = 3\n",
    "        for line in f:\n",
    "            l = line.split()\n",
    "            #if len(l) == 2 and l[0].strip() == '%d:'% (nstates+1):\n",
    "            #    break\n",
    "            if len(l) == 2:\n",
    "                # We're reading a new state!\n",
    "                energy = float(l[1])\n",
    "                CI_states.append(CI_2h_state(energy))\n",
    "            elif len(l) > 2:\n",
    "                # Convert to zero-based states\n",
    "                v = int(l[1]) - 1\n",
    "                w = int(l[2][0:-1]) - 1\n",
    "                spinmult = l[3]\n",
    "                Cvw  = float(l[4])\n",
    "                CI_states[-1].addCSF(v, w, Cvw)\n",
    "                CI_states[-1].setMultiplicity(spinmult)\n",
    "               \n",
    "    return CI_states"
   ]
  },
  {
   "cell_type": "code",
   "execution_count": 9,
   "metadata": {},
   "outputs": [],
   "source": [
    "NEUTRAL_CONFS_FILE = '../h2o/core/CC-PVTZ/scr-fanoci-1s-neutral-5spd/states.2h.txt'\n",
    "MOM_CONFS_FILE = '../h2o/core/CC-PVTZ/scr-fanoci-1s-mom-5spd-reordered/states.2h.txt'\n",
    "# Let's compare states calculated from neutral RHF WF and core-ionized ROHF MOM\n",
    "# Data in Table 4 are for core hole\n",
    "# I am not sure I currently trust the FANOCI data for MOM WF\n",
    "neutral_final_states = read_fanoci_states(NEUTRAL_CONFS_FILE)\n",
    "mom_final_states = read_fanoci_states(MOM_CONFS_FILE)"
   ]
  },
  {
   "cell_type": "code",
   "execution_count": 10,
   "metadata": {},
   "outputs": [
    {
     "name": "stdout",
     "output_type": "stream",
     "text": [
      "SpinMult = 1 Energy = 1.85268\n",
      " 0.00201 | 1 2 >\n",
      "-0.11929 | 1 3 >\n",
      " 0.01527 | 2 3 >\n",
      " 0.07882 | 1 1 >\n",
      " 0.15481 | 2 2 >\n",
      "-0.95599 | 3 3 >\n",
      "-0.20354 | 4 4 >\n",
      "\n",
      "SpinMult = 1 Energy = 3.24589\n",
      "-0.00213 | 1 4 >\n",
      "-0.99986 | 2 4 >\n",
      " 0.01654 | 3 4 >\n"
     ]
    }
   ],
   "source": [
    "# Compare the MOM and neutral 2h states\n",
    "i = 2\n",
    "neutral_final_states[i].print_state()\n",
    "print()\n",
    "mom_final_states[i].print_state()"
   ]
  },
  {
   "cell_type": "markdown",
   "metadata": {},
   "source": [
    "---\n",
    "We can see that the MOM WF looks of C($3a_1)^{-2}$) = 0.9998 instead of 0.93 as in the paper. It's not clear where does the discrepancy comes from.\n",
    "The neutral WF has C($3a_1)^{-2}$) = 0.95, which is closer to the paper, so we'll work with it from now on.\n",
    "\n",
    "Let's calculate the intensity according to eq. 14 without the cross terms (which is what they do in the paper).\n",
    "\n",
    "We'll need the Lowdin population data from earlier."
   ]
  },
  {
   "cell_type": "code",
   "execution_count": 11,
   "metadata": {},
   "outputs": [
    {
     "name": "stdout",
     "output_type": "stream",
     "text": [
      "1.0 0.4940295343235541\n"
     ]
    }
   ],
   "source": [
    "# We also need the second singlet state to compare intensities\n",
    "# In table 4 this state has I = 1 so we'll set the K accordingly\n",
    "def aes_intensity_2hpop(MOpop, final_state):\n",
    "    K = 1 / np.sqrt(6.993799999999999) / np.sqrt(0.9986806048781381)\n",
    "    I = 0.0\n",
    "    mult = final_state.spinmult\n",
    "    for csf in final_state.getCSFs():\n",
    "        v = csf[0]\n",
    "        w = csf[1]\n",
    "        Cvw = csf[2]\n",
    "        t = t_vw(pop, v, w, K, mult)\n",
    "        I += Cvw**2 * t**2\n",
    "    return I\n",
    "\n",
    "pop = lowdin_core_vtz\n",
    "I2 = aes_intensity_2hpop(pop, neutral_final_states[1])\n",
    "I3 = aes_intensity_2hpop(pop, neutral_final_states[2])\n",
    "print(I2, I3)"
   ]
  },
  {
   "cell_type": "markdown",
   "metadata": {},
   "source": [
    "---\n",
    "Great! The result in Tab. 4 for third singlet state is 0.50, so we're a little of, but that's because we have slightly different CI coefficients.\n",
    "\n",
    "Now let's do all states!\n",
    "Note that the ordering is given by FANOCI: first singlets, then triplets"
   ]
  },
  {
   "cell_type": "code",
   "execution_count": 12,
   "metadata": {},
   "outputs": [
    {
     "name": "stdout",
     "output_type": "stream",
     "text": [
      "I     I(paper)\n",
      "0.505 0.50\n",
      "1.000 1.00\n",
      "0.494 0.50\n",
      "0.842 0.84\n",
      "0.832 0.83\n",
      "0.346 0.35\n",
      "0.739 0.74\n",
      "0.725 0.72\n",
      "0.594 0.59\n",
      "0.258 0.26\n",
      "0.000 0.00\n",
      "0.023 0.02\n",
      "0.021 0.02\n",
      "0.065 0.06\n",
      "0.060 0.06\n",
      "0.010 0.01\n"
     ]
    }
   ],
   "source": [
    "MOpop = lowdin_core_vtz\n",
    "i = 0\n",
    "paper2fano_indeces = (1, 2, 4, 6, 7, 8, 12, 13, 14, 15, 0, 3, 5, 9, 10, 11)\n",
    "print('I     I(paper)')\n",
    "for state in neutral_final_states:\n",
    "    I = aes_intensity_2hpop(MOpop, state)\n",
    "    print(\"%.3f %.2f\" % (I, I_paper[paper2fano_indeces[i]]))\n",
    "    i += 1"
   ]
  }
 ],
 "metadata": {
  "kernelspec": {
   "display_name": "Python 3",
   "language": "python",
   "name": "python3"
  },
  "language_info": {
   "codemirror_mode": {
    "name": "ipython",
    "version": 3
   },
   "file_extension": ".py",
   "mimetype": "text/x-python",
   "name": "python",
   "nbconvert_exporter": "python",
   "pygments_lexer": "ipython3",
   "version": "3.8.1"
  }
 },
 "nbformat": 4,
 "nbformat_minor": 4
}
