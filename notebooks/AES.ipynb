{
 "cells": [
  {
   "cell_type": "markdown",
   "metadata": {},
   "source": [
    "# Auger Electron Spectroscopy (AES) of water molecule"
   ]
  },
  {
   "cell_type": "code",
   "execution_count": 101,
   "metadata": {},
   "outputs": [],
   "source": [
    "%matplotlib inline\n",
    "import os, sys\n",
    "import numpy as np\n",
    "import seaborn as sns\n",
    "import matplotlib.pyplot as plt\n",
    "# import bqplot\n",
    "import pandas as pd\n",
    "sns.set()\n",
    "sns.set_palette('colorblind')\n",
    "BASEDIR = '../h2o/core'\n",
    "AU2EV = 27.2114"
   ]
  },
  {
   "cell_type": "code",
   "execution_count": 102,
   "metadata": {},
   "outputs": [],
   "source": [
    "import errno\n",
    "def check_file(fpath):\n",
    "    # First check whether parent dir exists\n",
    "    d = os.path.dirname(fpath)\n",
    "    cdir = os.path.abspath(os.curdir)\n",
    "    if not os.path.isdir(d):\n",
    "        print(\"ERROR: Directory %s does not exist!\" % d)\n",
    "        print(\"Current directory is: %s\", cdir)\n",
    "        raise FileNotFoundError(\n",
    "    errno.ENOENT, os.strerror(errno.ENOENT), fpath)\n",
    "\n",
    "    if not os.path.isfile(fpath):\n",
    "        print(\"ERROR: File %s does not exist!\" % fpath)\n",
    "        print(\"Current directory is: %s\", cdir)\n",
    "        raise FileNotFoundError(\n",
    "    errno.ENOENT, os.strerror(errno.ENOENT), fpath)\n",
    "\n",
    "def read_stieltjes_gammas(fpath):\n",
    "    check_file(fpath)\n",
    "    stdata = pd.read_csv(fpath, comment=\"#\", delim_whitespace=True, header=None, names=[\"Order\", \"Gamma\"])\n",
    "    return stdata\n",
    "        \n",
    "def plot_stieltjes(fpath, graph=None):\n",
    "    check_file(fpath)\n",
    "    stdata = read_stieltjes_gammas(fpath)\n",
    "    ymax = stdata['Gamma'].max()\n",
    "    ymax *= 1.1\n",
    "    print(ymax)\n",
    "    g = sns.relplot(x=\"Order\", y=\"Gamma\", data=stdata)\n",
    "    g.set_xlabels(\"Stieltjes Order\").set_ylabels(\"Gamma / a.u.\")\n",
    "    g.set(ylim=(0, ymax))\n",
    "    return g\n",
    "\n",
    "def run_stieltjes(fpath):\n",
    "    \"\"\"Run Stieltjes for given Couplings file and plot the results\n",
    "       Not finished\"\"\"\n",
    "    cdir = os.path.abspath(os.curdir)\n",
    "    return\n",
    "    # Assume stieltjes executable is in PATH\n",
    "    exit_code = os.system(\"stieltjes < %s\" % fpath)\n",
    "    if exit_code != 0:\n",
    "        print(\"ERROR: Stieltjes command returned %d\" % exit_code)\n",
    "    os.chdir(cdir)\n",
    "    print(os.curdir)"
   ]
  },
  {
   "cell_type": "code",
   "execution_count": 103,
   "metadata": {},
   "outputs": [
    {
     "name": "stdout",
     "output_type": "stream",
     "text": [
      "     Electron kinetic energy [eV]  Net counts\n",
      "0                          443.17     1629.70\n",
      "1                          443.44     1547.50\n",
      "2                          444.31     1602.00\n",
      "3                          445.12     1574.40\n",
      "4                          445.65     1711.20\n",
      "..                            ...         ...\n",
      "175                        502.92      983.23\n",
      "176                        503.25      873.55\n",
      "177                        503.65      791.24\n",
      "178                        504.26      791.08\n",
      "179                        504.72      653.96\n",
      "\n",
      "[180 rows x 2 columns]\n"
     ]
    }
   ],
   "source": [
    "AES_WATER_EXP_SIEGBAHN_1975 = '../h2o/aes_water_vapour.txt'\n",
    "exp_data = pd.read_csv(AES_WATER_EXP_SIEGBAHN_1975, comment=\"#\", delim_whitespace=True,)\n",
    "print(exp_data)"
   ]
  },
  {
   "cell_type": "code",
   "execution_count": 105,
   "metadata": {},
   "outputs": [
    {
     "name": "stdout",
     "output_type": "stream",
     "text": [
      "0.19193833465525423\n"
     ]
    },
    {
     "data": {
      "text/plain": [
       "[<matplotlib.lines.Line2D at 0x7f9152171490>]"
      ]
     },
     "execution_count": 105,
     "metadata": {},
     "output_type": "execute_result"
    },
    {
     "data": {
      "image/png": "[encoded data removed]",
      "text/plain": [
       "<Figure size 432x288 with 1 Axes>"
      ]
     },
     "metadata": {},
     "output_type": "display_data"
    }
   ],
   "source": [
    "d = read_stieltjes_gammas('../h2o/core/CC-PVTZ/scr-fanoci-1s-mom-3spd/gamma.sh2.dat')\n",
    "plt.plot(d['Order'], d['Gamma'], marker='+')\n",
    "omin = 15\n",
    "omax = 25\n",
    "st_subset = d[(d['Order'] > omin) & (d['Order'] < omax)]\n",
    "gamma = AU2EV * st_subset['Gamma'].mean()\n",
    "print(gamma)\n",
    "plt.plot(st_subset['Order'], st_subset['Gamma'], marker='+')"
   ]
  },
  {
   "cell_type": "code",
   "execution_count": 79,
   "metadata": {},
   "outputs": [
    {
     "name": "stdout",
     "output_type": "stream",
     "text": [
      "0.011237935208655101\n"
     ]
    },
    {
     "data": {
      "image/png": "[encoded data removed]",
      "text/plain": [
       "<Figure size 360x360 with 1 Axes>"
      ]
     },
     "metadata": {},
     "output_type": "display_data"
    }
   ],
   "source": [
    "g = plot_stieltjes('../h2o/core/CC-PVTZ/scr-fanoci-1s-mom-3spd/gamma.sh2.dat')"
   ]
  },
  {
   "cell_type": "code",
   "execution_count": 75,
   "metadata": {},
   "outputs": [
    {
     "data": {
      "text/plain": [
       "0.010216304735141"
      ]
     },
     "execution_count": 75,
     "metadata": {},
     "output_type": "execute_result"
    }
   ],
   "source": [
    "d['Gamma'].max()"
   ]
  },
  {
   "cell_type": "code",
   "execution_count": null,
   "metadata": {},
   "outputs": [],
   "source": []
  }
 ],
 "metadata": {
  "kernelspec": {
   "display_name": "Python 3",
   "language": "python",
   "name": "python3"
  },
  "language_info": {
   "codemirror_mode": {
    "name": "ipython",
    "version": 3
   },
   "file_extension": ".py",
   "mimetype": "text/x-python",
   "name": "python",
   "nbconvert_exporter": "python",
   "pygments_lexer": "ipython3",
   "version": "3.8.1"
  }
 },
 "nbformat": 4,
 "nbformat_minor": 4
}
